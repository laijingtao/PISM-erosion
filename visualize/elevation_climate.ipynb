{
 "cells": [
  {
   "cell_type": "code",
   "execution_count": 64,
   "metadata": {
    "collapsed": true,
    "deletable": true,
    "editable": true
   },
   "outputs": [],
   "source": [
    "import matplotlib.pyplot as plt\n",
    "import numpy as np\n",
    "from netCDF4 import Dataset\n",
    "import os\n",
    "\n",
    "savepath = './elevation_climate/'\n",
    "if not os.path.isdir(savepath):\n",
    "    os.mkdir(savepath)\n",
    "\n",
    "sec_year = 365.25*24*3600."
   ]
  },
  {
   "cell_type": "code",
   "execution_count": 65,
   "metadata": {
    "collapsed": false
   },
   "outputs": [],
   "source": [
    "ts = Dataset('ts_olympics_g1000m_elev_sb_sia_ela_1500_mb_min_-3.0_mb_max_3.0_0_5000a.nc', 'r')\n",
    "\n",
    "fig = plt.figure(1)\n",
    "ax = fig.add_subplot(111)\n",
    "ax.plot(ts.variables['time'][:]/sec_year, ts.variables['ivol'][:])\n",
    "\n",
    "plt.tight_layout()\n",
    "plt.savefig(savepath+'ivol_olympics_g1000m_elev_sb_sia_ela_1500_mb_min_-3.0_mb_max_3.0_0_5000a.jpg', dpi=300)\n",
    "plt.close('all')\n",
    "\n",
    "ts.close()"
   ]
  },
  {
   "cell_type": "code",
   "execution_count": 66,
   "metadata": {
    "collapsed": false,
    "deletable": true,
    "editable": true,
    "scrolled": true
   },
   "outputs": [],
   "source": [
    "ts1 = Dataset('ts_olympics_g1000m_elev_sb_sia_ela_1500_mb_min_-1.0_mb_max_1.0_0_5000a.nc', 'r')\n",
    "ts2 = Dataset('ts_olympics_g1000m_elev_sb_sia_ela_1500_mb_min_-1.0_mb_max_1.0_5000_8000a.nc', 'r')\n",
    "ts3 = Dataset('ts_olympics_g1000m_elev_sb_sia_ela_1500_mb_min_-1.0_mb_max_1.0_8000_11000a.nc', 'r')\n",
    "ts4 = Dataset('ts_olympics_g1000m_elev_sb_sia_ela_1500_mb_min_-1.0_mb_max_1.0_11000_20000a.nc', 'r')\n",
    "\n",
    "t = np.array([])\n",
    "ivol = np.array([])\n",
    "t = np.append(t, ts1.variables['time'][:])\n",
    "ivol = np.append(ivol, ts1.variables['ivol'][:])\n",
    "t = np.append(t, ts2.variables['time'][:])\n",
    "ivol = np.append(ivol, ts2.variables['ivol'][:])\n",
    "t = np.append(t, ts3.variables['time'][:])\n",
    "ivol = np.append(ivol, ts3.variables['ivol'][:])\n",
    "t = np.append(t, ts4.variables['time'][:])\n",
    "ivol = np.append(ivol, ts4.variables['ivol'][:])\n",
    "\n",
    "t = t/sec_year\n",
    "\n",
    "fig = plt.figure(1)\n",
    "ax = fig.add_subplot(111)\n",
    "ax.plot(t, ivol)\n",
    "\n",
    "plt.tight_layout()\n",
    "plt.savefig(savepath+'ivol_olympics_g1000m_elev_sb_sia_ela_1500_mb_min_-1.0_mb_max_1.0_0_20000a.jpg', dpi=300)\n",
    "plt.close('all')\n",
    "\n",
    "ts1.close()\n",
    "ts2.close()\n",
    "ts3.close()\n",
    "ts4.close()"
   ]
  },
  {
   "cell_type": "code",
   "execution_count": 67,
   "metadata": {
    "collapsed": true
   },
   "outputs": [],
   "source": []
  },
  {
   "cell_type": "code",
   "execution_count": null,
   "metadata": {
    "collapsed": true
   },
   "outputs": [],
   "source": []
  },
  {
   "cell_type": "code",
   "execution_count": null,
   "metadata": {
    "collapsed": true
   },
   "outputs": [],
   "source": []
  }
 ],
 "metadata": {
  "anaconda-cloud": {},
  "kernelspec": {
   "display_name": "Python [default]",
   "language": "python",
   "name": "python2"
  },
  "language_info": {
   "codemirror_mode": {
    "name": "ipython",
    "version": 2
   },
   "file_extension": ".py",
   "mimetype": "text/x-python",
   "name": "python",
   "nbconvert_exporter": "python",
   "pygments_lexer": "ipython2",
   "version": "2.7.12"
  }
 },
 "nbformat": 4,
 "nbformat_minor": 2
}
